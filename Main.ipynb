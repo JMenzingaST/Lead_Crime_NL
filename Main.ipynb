{
 "cells": [
  {
   "attachments": {},
   "cell_type": "markdown",
   "metadata": {},
   "source": [
    "## Final Assessment Programming 1\n",
    "By: Jacob Menzinga (357758)\n",
    "\n",
    "##### Introduction\n",
    "\n",
    "\n",
    "##### Hypotheses\n",
    "A higher amount of lead in wastewater correlates to a higher incidence of violent crimes\n",
    "\n",
    "##### Data sources\n",
    "1. <a href=\"https://opendata.cbs.nl/statline/portal.html?_la=nl&_catalog=CBS&tableId=7477&_theme=309\">Wastewater treatment in the netherlands</a><br>\n",
    "From this dataset the following features were selected:\n",
    "\n",
    "    - Onderwerpen -> Aanvoer van afvalwater -> Hoeveelheden:\n",
    "        - Volume afvalwater\n",
    "        - Zink\n",
    "\n",
    "    - Regios:\n",
    "        - Provincies\n",
    "\n",
    "    - Perioden:\n",
    "        - from 2010 up to and including 2020\n",
    "\n",
    "2. <a href=\"https://opendata.cbs.nl/statline/portal.html?_la=nl&_catalog=CBS&tableId=83648NED&_theme=406\">Registered crime in the netherlands</a><br>\n",
    "From this dataset the following features were selected:\n",
    "\n",
    "    - Onderwerpen -> Geregistreerde misdrijven:\n",
    "        - Geregistreerde misdrijven per 1000 inw.\n",
    "\n",
    "    - Soort misdrijf:\n",
    "        - 111 Diefstal en inbraak met geweld\n",
    "        - 15 Afpersing en afdreiging\n",
    "        - 21 Vernieling en beschadiging\n",
    "        - 22 Openbare orde misdrijf\n",
    "        - 23 Brandstichting / ontploffing\n",
    "        - 3 Gewelds- en seksuele misdrijven\n",
    "        - 7 Vuurwapenmisdrijven\n",
    "\n",
    "    - Regios:\n",
    "        - Provincies\n",
    "\n",
    "    - Perioden:\n",
    "        - from 2010 up to and including 2020\n",
    "    \n"
   ]
  },
  {
   "attachments": {},
   "cell_type": "markdown",
   "metadata": {},
   "source": [
    "##### Reading in the data"
   ]
  },
  {
   "cell_type": "code",
   "execution_count": null,
   "metadata": {},
   "outputs": [],
   "source": [
    "# Imports\n",
    "import yaml\n",
    "\n",
    "import pandas as pd\n",
    "import numpy as np\n",
    "\n",
    "from bokeh.io import output_notebook, show\n",
    "from bokeh.plotting import figure, show\n",
    "output_notebook()\n",
    "\n",
    "import holoviews as hv\n",
    "hv.extension(case_sensitive_completion=True)"
   ]
  },
  {
   "cell_type": "code",
   "execution_count": null,
   "metadata": {},
   "outputs": [],
   "source": [
    "with open('config.yaml') as stream:\n",
    "    config = yaml.safe_load(stream)\n",
    "    \n",
    "crime_df = pd.read_csv(config['crime'])\n",
    "lead_df = pd.read_csv(config['lead'], delimiter=';')"
   ]
  },
  {
   "cell_type": "code",
   "execution_count": null,
   "metadata": {},
   "outputs": [],
   "source": [
    "crime_df.rename(columns= {'SoortMisdrijf':'Crime',\n",
    "                         'RegioS':'Region', 'Perioden':'Year',\n",
    "                         'GeregistreerdeMisdrijvenPer1000Inw_3':'Incidence'},\n",
    "                inplace= True)\n",
    "\n",
    "# Dit later doen. \n",
    "# crime_df['Year'] = crime_df['Year'].str.replace('JJ00','')\n",
    "crime_df.head()"
   ]
  },
  {
   "cell_type": "code",
   "execution_count": null,
   "metadata": {},
   "outputs": [],
   "source": [
    "lead_df.rename(columns={'RegioS':'Region', 'Perioden':'Year',\n",
    "                        'VolumeAfvalwater_43':'Vol_Wastewater', \n",
    "                        'Lood_52':'Lead'}, inplace= True)\n",
    "lead_df.head()"
   ]
  },
  {
   "attachments": {},
   "cell_type": "markdown",
   "metadata": {},
   "source": [
    "Now I'm going to have a look at the Region column, since this is the feature I'll be merging on"
   ]
  },
  {
   "cell_type": "code",
   "execution_count": null,
   "metadata": {},
   "outputs": [],
   "source": [
    "print(f\"\"\"\n",
    "Crime regions:\n",
    "{crime_df['Region'].unique()}\n",
    "\n",
    "Lead regions:\n",
    "{lead_df['Region'].unique()}\"\"\")"
   ]
  },
  {
   "attachments": {},
   "cell_type": "markdown",
   "metadata": {},
   "source": [
    "There clearly is some whitespace that needs removing. \n",
    "Also there is a region in crime_df 'PV99' that does not show in the lead_df. \n",
    "I looked this up in the metadata file and tis is a 'niet in te delen' \n",
    "category so I will drop these rows."
   ]
  },
  {
   "cell_type": "code",
   "execution_count": null,
   "metadata": {},
   "outputs": [],
   "source": [
    "crime_df = crime_df[crime_df['Region'] != 'PV99  ']\n",
    "\n",
    "crime_df['Region'] = crime_df['Region'].str.replace(r'\\s','', regex=True)\n",
    "lead_df['Region'] = lead_df['Region'].str.replace(r'\\s','', regex=True)"
   ]
  },
  {
   "attachments": {},
   "cell_type": "markdown",
   "metadata": {},
   "source": [
    "The crime_df has the different types of crime in one column, I would like each crime as a different feature with he incedence as their value"
   ]
  },
  {
   "cell_type": "code",
   "execution_count": null,
   "metadata": {},
   "outputs": [],
   "source": [
    "unique_crimes = list(crime_df['Crime'].unique())"
   ]
  },
  {
   "cell_type": "code",
   "execution_count": null,
   "metadata": {},
   "outputs": [],
   "source": [
    "for crime in unique_crimes:\n",
    "    print(crime)"
   ]
  },
  {
   "cell_type": "code",
   "execution_count": null,
   "metadata": {},
   "outputs": [],
   "source": [
    "crime_df.head()"
   ]
  },
  {
   "cell_type": "code",
   "execution_count": null,
   "metadata": {},
   "outputs": [],
   "source": []
  },
  {
   "cell_type": "markdown",
   "metadata": {},
   "source": []
  },
  {
   "cell_type": "markdown",
   "metadata": {},
   "source": []
  },
  {
   "cell_type": "code",
   "execution_count": null,
   "metadata": {},
   "outputs": [],
   "source": []
  }
 ],
 "metadata": {
  "kernelspec": {
   "display_name": "Python 3",
   "language": "python",
   "name": "python3"
  },
  "language_info": {
   "codemirror_mode": {
    "name": "ipython",
    "version": 3
   },
   "file_extension": ".py",
   "mimetype": "text/x-python",
   "name": "python",
   "nbconvert_exporter": "python",
   "pygments_lexer": "ipython3",
   "version": "3.10.8"
  },
  "orig_nbformat": 4,
  "vscode": {
   "interpreter": {
    "hash": "6b91fa5cffef32cb10787a50fea9666676a7951181e01280b4644cd70c964bf4"
   }
  }
 },
 "nbformat": 4,
 "nbformat_minor": 2
}
